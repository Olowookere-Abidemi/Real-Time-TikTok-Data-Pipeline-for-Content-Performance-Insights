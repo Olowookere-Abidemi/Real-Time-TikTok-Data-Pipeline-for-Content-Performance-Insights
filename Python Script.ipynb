{
 "cells": [
  {
   "cell_type": "code",
   "execution_count": 23,
   "id": "2333f8e7-e910-4761-8b71-1ea9d51e2ae8",
   "metadata": {},
   "outputs": [
    {
     "name": "stdout",
     "output_type": "stream",
     "text": [
      "Requirement already satisfied: python-dotenv in c:\\users\\yusab\\anaconda3\\lib\\site-packages (0.21.0)\n",
      "Requirement already satisfied: pytz in c:\\users\\yusab\\anaconda3\\lib\\site-packages (2024.1)\n",
      "Note: you may need to restart the kernel to use updated packages.\n"
     ]
    }
   ],
   "source": [
    "pip install python-dotenv pytz"
   ]
  },
  {
   "cell_type": "code",
   "execution_count": 17,
   "id": "d7e654e7-3547-4b37-9496-a8e3acd9b4c7",
   "metadata": {},
   "outputs": [],
   "source": [
    "#Importing required libraries\n",
    "\n",
    "import http.client\n",
    "import json\n",
    "import csv\n",
    "import time\n",
    "import os\n",
    "from datetime import datetime\n",
    "from zoneinfo import ZoneInfo   \n",
    "from dotenv import load_dotenv"
   ]
  },
  {
   "cell_type": "code",
   "execution_count": 23,
   "id": "88770ffe-7bbf-4298-9bfc-9a1ee3397510",
   "metadata": {},
   "outputs": [
    {
     "name": "stdout",
     "output_type": "stream",
     "text": [
      "API key loaded? ✅\n",
      "User ID       : ✅\n",
      "CSV save path : C:\\Users\\YUSAB/Downloads/datawithdemi_tiktok.csv\n"
     ]
    }
   ],
   "source": [
    "#Loading API key and TikTok user ID from .env file\n",
    "\n",
    "load_dotenv()\n",
    "\n",
    "API_KEY  = os.getenv(\"SCRAPTIK_API_KEY\")\n",
    "USER_ID  = os.getenv(\"TIKTOK_USER_ID\")\n",
    "CSV_PATH = os.path.expanduser(r\"C:\\Users\\YUSAB\\ABIDEMI\\datawithdemi_tiktok.csv\")\n",
    "\n",
    "TZ       = ZoneInfo(\"Africa/Lagos\")  # Nigeria time\n",
    "\n",
    "#Stage‑check\n",
    "print(f\"API key loaded? {'✅' if API_KEY else '❌'}\")\n",
    "print(f\"User ID       : {'✅' or '❌ MISSING'}\")\n",
    "print(f\"CSV save path : {CSV_PATH}\")"
   ]
  },
  {
   "cell_type": "code",
   "execution_count": 25,
   "id": "25cf454e-ea04-4353-9cb8-b3945fe515e1",
   "metadata": {},
   "outputs": [],
   "source": [
    "#log errors to a text file (optional but useful for debugging)\n",
    "\n",
    "def log_error(msg: str) -> None:\n",
    "    \"\"\"Append errors to a simple text log.\"\"\"\n",
    "    with open(\"task_error_log.txt\", \"a\", encoding=\"utf-8\") as f:\n",
    "        f.write(f\"[{datetime.now()}] {msg}\\n\")\n",
    "        \n",
    "#Check if previous posts already exist in the CSV file\n",
    "\n",
    "def load_existing_posts() -> dict:\n",
    "    \"\"\"Return dict keyed by post‑ID so we can skip duplicates.\"\"\"\n",
    "    posts = {}\n",
    "    if os.path.exists(CSV_PATH):\n",
    "        with open(CSV_PATH, newline=\"\", encoding=\"utf-8\") as f:\n",
    "            rdr = csv.reader(f)\n",
    "            _ = next(rdr, None)          # skip header\n",
    "            for row in rdr:\n",
    "                posts[row[0]] = row\n",
    "    return posts\n",
    "#Save all the scraped posts into a CSV file\n",
    "def save_posts_to_csv(posts: dict) -> None:\n",
    "    \"\"\"Write entire dict back to CSV (overwrites).\"\"\"\n",
    "    with open(CSV_PATH, \"w\", newline=\"\", encoding=\"utf-8\") as f:\n",
    "        w = csv.writer(f)\n",
    "        w.writerow([\n",
    "            \"Post ID\", \"Description\", \"Likes\", \"Comments\", \"Shares\", \"Views\",\n",
    "            \"Video URL\", \"Date (Lagos)\", \"Duration (s)\", \"Duration Category\",\n",
    "            \"Engagement Rate\", \"Sound Title\", \"Region\", \"Hashtags\"\n",
    "        ])\n",
    "        for row in posts.values():\n",
    "            w.writerow(row)\n"
   ]
  },
  {
   "cell_type": "code",
   "execution_count": 36,
   "id": "0c3c5a4a-1eda-4066-861a-1717cb003561",
   "metadata": {},
   "outputs": [],
   "source": [
    "#Fetch and process posts using Scraptik API\n",
    "\n",
    "def fetch_user_posts(api_key: str, user_id: str) -> None:\n",
    "    conn    = http.client.HTTPSConnection(\"scraptik.p.rapidapi.com\")\n",
    "    headers = {\"x-rapidapi-key\": api_key, \"x-rapidapi-host\": \"scraptik.p.rapidapi.com\"}\n",
    "\n",
    "    max_cursor  = 0\n",
    "    has_more    = True\n",
    "    posts_dict  = load_existing_posts()\n",
    "    stage_rows0 = len(posts_dict)\n",
    "\n",
    "    print(f\"🔎 Existing posts in CSV: {stage_rows0}\")\n",
    "\n",
    "    while has_more:\n",
    "        conn.request(\n",
    "            \"GET\",\n",
    "            f\"/user-posts?user_id={user_id}&count=50&max_cursor={max_cursor}\",\n",
    "            headers=headers,\n",
    "        )\n",
    "        res   = conn.getresponse()\n",
    "        code  = res.status\n",
    "        blob  = res.read()\n",
    "        if code != 200:\n",
    "            msg = f\"API error {code}\"\n",
    "            print(\"❌\", msg)\n",
    "            log_error(msg)\n",
    "            break\n",
    "\n",
    "        payload = json.loads(blob)\n",
    "        if \"aweme_list\" not in payload:\n",
    "            print(\"❌ Unexpected response structure.\")\n",
    "            break\n",
    "\n",
    "        for aweme in payload[\"aweme_list\"]:\n",
    "            pid = aweme.get(\"aweme_id\")\n",
    "            if not pid or pid in posts_dict:\n",
    "                continue  # skip duplicates or missing IDs\n",
    "\n",
    "            stats   = aweme.get(\"statistics\", {})\n",
    "            video   = aweme.get(\"video\",  {})\n",
    "            music   = aweme.get(\"music\",  {})\n",
    "            \n",
    "            # Classify video duration\n",
    "            duration_s   = video.get(\"duration\", 0) / 1000\n",
    "            duration_cat = \"Short\" if duration_s < 15 else \"Medium\" if duration_s <= 60 else \"Long\"\n",
    "            eng_rate     = (\n",
    "                (stats.get(\"digg_count\",0)+stats.get(\"comment_count\",0)+stats.get(\"share_count\",0))\n",
    "                / max(stats.get(\"play_count\",1), 1)\n",
    "            )\n",
    "            hashtags = \", \".join(\n",
    "                tag[\"hashtag_name\"]\n",
    "                for tag in aweme.get(\"text_extra\", [])\n",
    "                if tag.get(\"hashtag_name\")\n",
    "            )\n",
    "\n",
    "            # date conversion to Africa/Lagos\n",
    "            timestamp  = aweme.get(\"create_time\", 0)\n",
    "            lagos_time = datetime.fromtimestamp(timestamp, TZ).strftime(\"%Y-%m-%d %H:%M:%S\")\n",
    "\n",
    "            posts_dict[pid] = [\n",
    "                pid,\n",
    "                aweme.get(\"desc\",\"\"),\n",
    "                stats.get(\"digg_count\",0),\n",
    "                stats.get(\"comment_count\",0),\n",
    "                stats.get(\"share_count\",0),\n",
    "                stats.get(\"play_count\",0),\n",
    "                video.get(\"play_addr\",{}).get(\"url_list\",[ \"\"])[0],\n",
    "                lagos_time,\n",
    "                round(duration_s,2),\n",
    "                duration_cat,\n",
    "                round(eng_rate,4),\n",
    "                music.get(\"title\",\"N/A\"),\n",
    "                aweme.get(\"region\",\"N/A\"),\n",
    "                hashtags\n",
    "            ]\n",
    "\n",
    "        has_more   = payload.get(\"has_more\", False)\n",
    "        max_cursor = payload.get(\"max_cursor\", 0)\n",
    "        time.sleep(1)  # gentle throttle\n",
    "\n",
    "    #Save\n",
    "    save_posts_to_csv(posts_dict)\n",
    "    added = len(posts_dict) - stage_rows0\n",
    "    print(f\"✅ Scrape complete — added {added} new post(s). Total now: {len(posts_dict)}\")\n"
   ]
  },
  {
   "cell_type": "code",
   "execution_count": 38,
   "id": "3e47f6dc-ff7e-47c5-bbc9-a692079b7137",
   "metadata": {},
   "outputs": [
    {
     "name": "stdout",
     "output_type": "stream",
     "text": [
      "🚀 Starting TikTok scraping…\n",
      "🔎 Existing posts in CSV: 0\n",
      "❌ API error 429\n",
      "✅ Scrape complete — added 0 new post(s). Total now: 0\n"
     ]
    }
   ],
   "source": [
    "#Start the scraping process\n",
    "\n",
    "if API_KEY and USER_ID:\n",
    "    print(\"🚀 Starting TikTok scraping…\")\n",
    "    fetch_user_posts(API_KEY, USER_ID)\n",
    "else:\n",
    "    print(\"❌ Fix .env — missing API_KEY or USER_ID\")\n"
   ]
  },
  {
   "cell_type": "code",
   "execution_count": 34,
   "id": "e3899bc6-4214-40fc-a170-c31b028c2b26",
   "metadata": {},
   "outputs": [
    {
     "name": "stdout",
     "output_type": "stream",
     "text": [
      "Rows in file  : 0\n",
      "Most recent 5 rows:\n"
     ]
    },
    {
     "data": {
      "text/html": [
       "<div>\n",
       "<style scoped>\n",
       "    .dataframe tbody tr th:only-of-type {\n",
       "        vertical-align: middle;\n",
       "    }\n",
       "\n",
       "    .dataframe tbody tr th {\n",
       "        vertical-align: top;\n",
       "    }\n",
       "\n",
       "    .dataframe thead th {\n",
       "        text-align: right;\n",
       "    }\n",
       "</style>\n",
       "<table border=\"1\" class=\"dataframe\">\n",
       "  <thead>\n",
       "    <tr style=\"text-align: right;\">\n",
       "      <th></th>\n",
       "      <th>Post ID</th>\n",
       "      <th>Description</th>\n",
       "      <th>Likes</th>\n",
       "      <th>Comments</th>\n",
       "      <th>Shares</th>\n",
       "      <th>Views</th>\n",
       "      <th>Video URL</th>\n",
       "      <th>Date (Lagos)</th>\n",
       "      <th>Duration (s)</th>\n",
       "      <th>Duration Category</th>\n",
       "      <th>Engagement Rate</th>\n",
       "      <th>Sound Title</th>\n",
       "      <th>Region</th>\n",
       "      <th>Hashtags</th>\n",
       "    </tr>\n",
       "  </thead>\n",
       "  <tbody>\n",
       "  </tbody>\n",
       "</table>\n",
       "</div>"
      ],
      "text/plain": [
       "Empty DataFrame\n",
       "Columns: [Post ID, Description, Likes, Comments, Shares, Views, Video URL, Date (Lagos), Duration (s), Duration Category, Engagement Rate, Sound Title, Region, Hashtags]\n",
       "Index: []"
      ]
     },
     "metadata": {},
     "output_type": "display_data"
    }
   ],
   "source": [
    "\n",
    "import pandas as pd\n",
    "\n",
    "df = pd.read_csv(CSV_PATH)\n",
    "print(f\"Rows in file  : {len(df)}\")\n",
    "print(\"Most recent 5 rows:\")\n",
    "display(df.tail())\n"
   ]
  },
  {
   "cell_type": "code",
   "execution_count": null,
   "id": "c3e9bc9f-fe42-4e00-98d7-57fb0b016b4e",
   "metadata": {},
   "outputs": [],
   "source": []
  }
 ],
 "metadata": {
  "kernelspec": {
   "display_name": "Python [conda env:base] *",
   "language": "python",
   "name": "conda-base-py"
  },
  "language_info": {
   "codemirror_mode": {
    "name": "ipython",
    "version": 3
   },
   "file_extension": ".py",
   "mimetype": "text/x-python",
   "name": "python",
   "nbconvert_exporter": "python",
   "pygments_lexer": "ipython3",
   "version": "3.12.7"
  }
 },
 "nbformat": 4,
 "nbformat_minor": 5
}
